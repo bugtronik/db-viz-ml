{
 "cells": [
  {
   "cell_type": "code",
   "execution_count": 20,
   "id": "74d95755-527d-4928-b9ff-548b767cd1d0",
   "metadata": {},
   "outputs": [],
   "source": [
    "import pyodbc\n",
    "import pandas as pd\n",
    "import numpy as np\n",
    "import matplotlib.pyplot as plt\n",
    "import matplotlib.image as mpimg"
   ]
  },
  {
   "cell_type": "code",
   "execution_count": 6,
   "id": "003b7968-6211-45ce-b912-94f70ad70151",
   "metadata": {},
   "outputs": [],
   "source": [
    "server = 'mavagha-dv1-sqls.database.windows.net'\n",
    "database = 'mavaghasqld'\n",
    "username = 'SicomAdminUser'\n",
    "password = 'MUdNRsrTl6eF5KjzlVcr'\n",
    "driver = '{ODBC Driver 18 for SQL Server}'"
   ]
  },
  {
   "cell_type": "code",
   "execution_count": 22,
   "id": "d574c337-bfd4-4a19-8aaa-ea402b1af24f",
   "metadata": {},
   "outputs": [
    {
     "name": "stdout",
     "output_type": "stream",
     "text": [
      "Connexion réussie à SQL Server\n",
      "Erreur de connexion : ('42000', \"[42000] [Microsoft][ODBC Driver 18 for SQL Server][SQL Server]Incorrect syntax near 'FORMAT'. (102) (SQLExecDirectW)\")\n"
     ]
    }
   ],
   "source": [
    "try:\n",
    "    conn = pyodbc.connect(\n",
    "        f\"DRIVER={driver};SERVER={server};DATABASE={database};UID={username};PWD={password}\"\n",
    "    )\n",
    "    print(\"Connexion réussie à SQL Server\")\n",
    "    \n",
    "    cursor = conn.cursor()\n",
    "    cursor.execute(\n",
    "            \"\"\"SELECT \n",
    "                  NUMERO_TRAIN\n",
    "                  ,CATEGORIE_TRAIN\n",
    "                  ,FORMAT(REAL_DT_FROM, 'yyyy-MM-dd') AS \"DATE DE DEPART\"\n",
    "                  ,FORMAT(REAL_DT_TO, 'yyyy-MM-dd') AS \"DATE D'ARRIVEE\"\n",
    "            \t  ,FORMAT(REAL_DT_FROM, 'HH:mm') AS \"HEURE DE DEPART REEL\"\n",
    "            \t  ,FORMAT(REAL_DT_TO, 'HH:mm') AS \"HEURE D'ARRIVEE REEL\"\n",
    "                  FORMAT(FLOOR(REAL_TEMPS_PARC_H_EN_GARE) + (REAL_TEMPS_PARC_H_EN_GARE -FLOOR(REAL_TEMPS_PARC_H_EN_GARE)),'00.00') AS \"TEMPS PASSER EN GARE\"\n",
    "            FROM tcs.SP_ERAMET_VTRAIN_MINI\n",
    "            WHERE CATEGORIE_TRAIN IN ('Voyageurs express', 'Voyageurs omnibus')\n",
    "            AND FORMAT(REAL_DT_TO, 'yyyy-MM-dd') BETWEEN '2024-12-01' AND '2024-12-31'\n",
    "            \"\"\"\n",
    "        )\n",
    "    data = []\n",
    "    results = cursor.fetchall()\n",
    "    for i in results:\n",
    "        donnees = (i[0], i[1], i[2], i[3], i[4], i[5], i[6])\n",
    "        data.append(donnees)\n",
    "    columns = [column[0] for column in cursor.description]\n",
    "\n",
    "    df_inforail = pd.DataFrame(data, columns=[\"N° TRAIN\", \"TYPE DE TRAIN\", \"DATE DE DEPART\", \"DATE D'ARRIVEE\", \"HEURE DE DEPART REEL\", \"HEURE D'ARRIVEE REEL\", \"TEMPS PASSER EN GARE\"])\n",
    "    print(df_inforail)\n",
    "\n",
    "    fig, ax = plt.subplots(figsize=(14, 7))\n",
    "    ax.axis('tight')\n",
    "    ax.axis('off')\n",
    "\n",
    "    ax.set_title(\"PROGRAMME DES TRAINS EN COURS\", y=0.9)\n",
    "    #table = ax.table(cellText=df_express.values, colLabels=df_express.columns, cellLoc='center', loc='center')\n",
    "    ax.table(cellText=df_inforail.values, colLabels=df_inforail.columns, cellLoc='center', loc='center')\n",
    "\n",
    "    cursor.close()\n",
    "    conn.close()\n",
    "except Exception as e:\n",
    "    print(f\"Erreur de connexion : {e}\")"
   ]
  },
  {
   "cell_type": "code",
   "execution_count": null,
   "id": "28bea5f0-161e-40a1-8d96-b8786d6f4743",
   "metadata": {},
   "outputs": [],
   "source": []
  },
  {
   "cell_type": "code",
   "execution_count": null,
   "id": "e65a182c-bfaa-406d-bd33-3d8c46cba84d",
   "metadata": {},
   "outputs": [],
   "source": []
  }
 ],
 "metadata": {
  "kernelspec": {
   "display_name": "Python 3 (ipykernel)",
   "language": "python",
   "name": "python3"
  },
  "language_info": {
   "codemirror_mode": {
    "name": "ipython",
    "version": 3
   },
   "file_extension": ".py",
   "mimetype": "text/x-python",
   "name": "python",
   "nbconvert_exporter": "python",
   "pygments_lexer": "ipython3",
   "version": "3.13.0"
  }
 },
 "nbformat": 4,
 "nbformat_minor": 5
}
