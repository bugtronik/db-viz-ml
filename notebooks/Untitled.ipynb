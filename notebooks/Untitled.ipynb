{
 "cells": [
  {
   "cell_type": "code",
   "execution_count": 2,
   "id": "d767d584-856e-4fc2-9ff8-409660fd8327",
   "metadata": {},
   "outputs": [],
   "source": [
    "from sshtunnel import SSHTunnelForwarder\n",
    "import mysql.connector"
   ]
  },
  {
   "cell_type": "code",
   "execution_count": 3,
   "id": "0c91f44a-cf1a-4992-a7c3-01ad364294d5",
   "metadata": {},
   "outputs": [],
   "source": [
    "ssh_host = \"10.120.21.103\"\n",
    "ssh_user = \"setrag\"\n",
    "ssh_password = \"Wabjtam,123\""
   ]
  },
  {
   "cell_type": "code",
   "execution_count": 4,
   "id": "a5582986-171c-40f6-82ac-2115c9964278",
   "metadata": {},
   "outputs": [],
   "source": [
    "mysql_host = \"192.168.21.69\"\n",
    "mysql_port = 3306\n",
    "mysql_user = \"galera\"\n",
    "mysql_password = \"galera\"\n",
    "mysql_db = \"setrag_beta1\""
   ]
  },
  {
   "cell_type": "code",
   "execution_count": null,
   "id": "8b9b5658-a1f1-4bc6-b664-d937ac4920d5",
   "metadata": {},
   "outputs": [],
   "source": [
    "with SSHTunnelForwarder(\n",
    "    (ssh_host, 22),\n",
    "    ssh_username=ssh_user,\n",
    "    ssh_password=ssh_password,\n",
    "    remote_bind_address=(\"192.168.21.69\", mysql_port)\n",
    ") as tunnel:\n",
    "    connection = mysql.connector.connect(\n",
    "        host=\"127.0.0.1\",\n",
    "        port=tunnel.local_bind_port,\n",
    "        user=mysql_user,\n",
    "        password=mysql_password,\n",
    "        database=mysql_db\n",
    "    )\n",
    "\n",
    "cursor = connection.cursor()\n",
    "cursor.execute(\"SELECT DATABASE();\")\n",
    "result = cursor.fetchone()\n",
    "print(f\"Connected to database : {result[0]}\")\n",
    "\n",
    "cursor.close()\n",
    "connection.close()"
   ]
  },
  {
   "cell_type": "code",
   "execution_count": null,
   "id": "5df254c9-c072-46a4-98f9-d4087e4a9532",
   "metadata": {},
   "outputs": [],
   "source": []
  }
 ],
 "metadata": {
  "kernelspec": {
   "display_name": "Python 3 (ipykernel)",
   "language": "python",
   "name": "python3"
  },
  "language_info": {
   "codemirror_mode": {
    "name": "ipython",
    "version": 3
   },
   "file_extension": ".py",
   "mimetype": "text/x-python",
   "name": "python",
   "nbconvert_exporter": "python",
   "pygments_lexer": "ipython3",
   "version": "3.12.3"
  }
 },
 "nbformat": 4,
 "nbformat_minor": 5
}
