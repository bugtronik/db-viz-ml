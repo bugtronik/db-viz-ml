{
 "cells": [
  {
   "cell_type": "code",
   "execution_count": 2,
   "metadata": {},
   "outputs": [],
   "source": [
    "# import de numpy et pandas pour faire de l'ETL\n",
    "import numpy as np\n",
    "import pandas as pd"
   ]
  },
  {
   "cell_type": "code",
   "execution_count": 3,
   "metadata": {},
   "outputs": [
    {
     "name": "stdout",
     "output_type": "stream",
     "text": [
      "           GARE     No OPERATION  DATE VENTE HEURE VENTE            VENDEUR  \\\n",
      "0  OWENDO VIRIE  G21VY0000037108  01/01/2020       00:00  ARSENE OBAME  MVE   \n",
      "1  OWENDO VIRIE  G21VY0000037112  01/01/2020       00:00  ARSENE OBAME  MVE   \n",
      "2  OWENDO VIRIE  G21VY0000037121  01/01/2020       00:00  ARSENE OBAME  MVE   \n",
      "3  OWENDO VIRIE  G21VY0000037130  01/01/2020       00:00  ARSENE OBAME  MVE   \n",
      "4  OWENDO VIRIE  G21VY0000037151  01/01/2020       00:00  ARSENE OBAME  MVE   \n",
      "\n",
      "  PRESTATION TYPE VENTE ETAT BILLET ETAT VENTE  CSS  ...     HT    TTC  \\\n",
      "0     Billet   MANUELLE         NaN        NaN   95  ...   9496  11300   \n",
      "1     Billet   MANUELLE         NaN        NaN  102  ...  10168  12100   \n",
      "2     Billet   MANUELLE         NaN        NaN   57  ...   5714   6800   \n",
      "3     Billet   MANUELLE         NaN        NaN   92  ...   9244  11000   \n",
      "4     Billet   MANUELLE         NaN        NaN   50  ...   5042   6000   \n",
      "\n",
      "   REDUCTION APPLIQUEE  PAIEMENT No TRAIN        DEPART       ARRIVEE  \\\n",
      "0                  0.0     AGENT      311  OWENDO VIRIE   FRANCEVILLE   \n",
      "1                  0.0    ESPECE      332          AYEM         NTOUM   \n",
      "2                  0.0    ESPECE      332          AYEM  OWENDO VIRIE   \n",
      "3                  0.0    ESPECE      332          AYEM         ANDEM   \n",
      "4                  0.0    ESPECE      332          AYEM         NTOUM   \n",
      "\n",
      "  BON DE COMMANDE CLIENT EN COMPTE SERVICE  \n",
      "0             NaN              NaN     NaN  \n",
      "1             NaN              NaN     NaN  \n",
      "2             NaN              NaN     NaN  \n",
      "3             NaN              NaN     NaN  \n",
      "4             NaN              NaN     NaN  \n",
      "\n",
      "[5 rows x 21 columns]\n"
     ]
    },
    {
     "name": "stderr",
     "output_type": "stream",
     "text": [
      "C:\\Users\\aly.mboumba\\AppData\\Local\\Temp\\ipykernel_54240\\126819554.py:2: DtypeWarning: Columns (18) have mixed types. Specify dtype option on import or set low_memory=False.\n",
      "  df = pd.read_csv('../datasources/all_sales_2020.csv')\n"
     ]
    }
   ],
   "source": [
    "# Chargement du dataframe\n",
    "df = pd.read_csv('../datasources/all_sales_2020.csv')\n",
    "print(df.head())"
   ]
  },
  {
   "cell_type": "markdown",
   "metadata": {},
   "source": []
  },
  {
   "cell_type": "code",
   "execution_count": 4,
   "metadata": {},
   "outputs": [
    {
     "name": "stdout",
     "output_type": "stream",
     "text": [
      "  PRESTATION     HT PAIEMENT\n",
      "0     Billet   9496    AGENT\n",
      "1     Billet  10168   ESPECE\n",
      "2     Billet   5714   ESPECE\n",
      "3     Billet   9244   ESPECE\n",
      "4     Billet   5042   ESPECE\n"
     ]
    }
   ],
   "source": [
    "# Extract data : PRESTATION, HT, PAIEMENT\n",
    "df_sales1 = df[['PRESTATION', 'HT', 'PAIEMENT']]\n",
    "print(df_sales1.head())"
   ]
  },
  {
   "cell_type": "code",
   "execution_count": 6,
   "metadata": {},
   "outputs": [],
   "source": [
    "# Maintenant que nous avons nos prestation, les montants hors taxes et les types de paiment\n",
    "# Nous allons procéder au regoupement des par prestation et par paiement"
   ]
  },
  {
   "cell_type": "code",
   "execution_count": 10,
   "metadata": {},
   "outputs": [
    {
     "name": "stdout",
     "output_type": "stream",
     "text": [
      "dict_keys(['Bagage', 'Billet', 'Colis express', 'TAA', 'TF'])\n"
     ]
    }
   ],
   "source": [
    "# Vérifions les différents groups que nous avons : pour PRESTATION & PAIEMENT\n",
    "print(df_sales1.groupby('PRESTATION').groups.keys())"
   ]
  },
  {
   "cell_type": "code",
   "execution_count": 11,
   "metadata": {},
   "outputs": [
    {
     "name": "stdout",
     "output_type": "stream",
     "text": [
      "dict_keys(['AGENCE ACCREDITEE', 'AGENT', 'BON DE COMMANDE', 'ESPECE', 'SERVICE'])\n"
     ]
    }
   ],
   "source": [
    "print(df_sales1.groupby('PAIEMENT').groups.keys())"
   ]
  },
  {
   "cell_type": "code",
   "execution_count": 27,
   "metadata": {},
   "outputs": [
    {
     "name": "stdout",
     "output_type": "stream",
     "text": [
      "                      sum\n",
      "PRESTATION               \n",
      "Bagage          149947471\n",
      "Billet         3497033307\n",
      "Colis express   625687657\n",
      "TAA             222289764\n",
      "TF               37743436\n"
     ]
    },
    {
     "name": "stderr",
     "output_type": "stream",
     "text": [
      "C:\\Users\\aly.mboumba\\AppData\\Local\\Temp\\ipykernel_54240\\3021970611.py:1: FutureWarning: The provided callable <function sum at 0x00000296EE2EB380> is currently using SeriesGroupBy.sum. In a future version of pandas, the provided callable will be used directly. To keep current behavior pass the string \"sum\" instead.\n",
      "  total = df_sales1.groupby('PRESTATION')['HT'].agg([np.sum])\n"
     ]
    }
   ],
   "source": [
    "# On calcul le montant total HT de chaque prestation\n",
    "total = df_sales1.groupby('PRESTATION')['HT'].agg([np.sum])\n",
    "print(total)"
   ]
  },
  {
   "cell_type": "code",
   "execution_count": 46,
   "metadata": {},
   "outputs": [
    {
     "name": "stdout",
     "output_type": "stream",
     "text": [
      "                          sum\n",
      "PAIEMENT                     \n",
      "AGENCE ACCREDITEE    17081282\n",
      "AGENT                 2370286\n",
      "BON DE COMMANDE     127444576\n",
      "ESPECE             4214004025\n",
      "SERVICE             171801466\n"
     ]
    },
    {
     "name": "stderr",
     "output_type": "stream",
     "text": [
      "C:\\Users\\aly.mboumba\\AppData\\Local\\Temp\\ipykernel_54240\\2628026788.py:2: FutureWarning: The provided callable <function sum at 0x00000296EE2EB380> is currently using SeriesGroupBy.sum. In a future version of pandas, the provided callable will be used directly. To keep current behavior pass the string \"sum\" instead.\n",
      "  paiement = df_sales1.groupby('PAIEMENT')['HT'].agg([np.sum])\n"
     ]
    }
   ],
   "source": [
    "# On calcul le montant total ht de chaque paiement\n",
    "paiement = df_sales1.groupby('PAIEMENT')['HT'].agg([np.sum])\n",
    "print(paiement)"
   ]
  },
  {
   "cell_type": "code",
   "execution_count": null,
   "metadata": {},
   "outputs": [],
   "source": []
  }
 ],
 "metadata": {
  "kernelspec": {
   "display_name": "Python 3",
   "language": "python",
   "name": "python3"
  },
  "language_info": {
   "codemirror_mode": {
    "name": "ipython",
    "version": 3
   },
   "file_extension": ".py",
   "mimetype": "text/x-python",
   "name": "python",
   "nbconvert_exporter": "python",
   "pygments_lexer": "ipython3",
   "version": "3.13.0"
  }
 },
 "nbformat": 4,
 "nbformat_minor": 2
}
